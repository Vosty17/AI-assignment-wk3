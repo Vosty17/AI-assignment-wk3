{
 "cells": [
  {
   "cell_type": "code",
   "execution_count": null,
   "id": "c5555a54",
   "metadata": {},
   "outputs": [
    {
     "name": "stdout",
     "output_type": "stream",
     "text": [
      "Epoch 1/5\n",
      "\u001b[1m1875/1875\u001b[0m \u001b[32m━━━━━━━━━━━━━━━━━━━━\u001b[0m\u001b[37m\u001b[0m \u001b[1m39s\u001b[0m 19ms/step - accuracy: 0.8995 - loss: 0.3271 - val_accuracy: 0.9841 - val_loss: 0.0502\n",
      "Epoch 2/5\n",
      "\u001b[1m1875/1875\u001b[0m \u001b[32m━━━━━━━━━━━━━━━━━━━━\u001b[0m\u001b[37m\u001b[0m \u001b[1m42s\u001b[0m 22ms/step - accuracy: 0.9841 - loss: 0.0489 - val_accuracy: 0.9828 - val_loss: 0.0507\n",
      "Epoch 3/5\n",
      "\u001b[1m1875/1875\u001b[0m \u001b[32m━━━━━━━━━━━━━━━━━━━━\u001b[0m\u001b[37m\u001b[0m \u001b[1m47s\u001b[0m 25ms/step - accuracy: 0.9894 - loss: 0.0338 - val_accuracy: 0.9906 - val_loss: 0.0280\n",
      "Epoch 4/5\n",
      "\u001b[1m1875/1875\u001b[0m \u001b[32m━━━━━━━━━━━━━━━━━━━━\u001b[0m\u001b[37m\u001b[0m \u001b[1m83s\u001b[0m 26ms/step - accuracy: 0.9923 - loss: 0.0243 - val_accuracy: 0.9899 - val_loss: 0.0310\n",
      "Epoch 5/5\n",
      "\u001b[1m1875/1875\u001b[0m \u001b[32m━━━━━━━━━━━━━━━━━━━━\u001b[0m\u001b[37m\u001b[0m \u001b[1m42s\u001b[0m 22ms/step - accuracy: 0.9936 - loss: 0.0189 - val_accuracy: 0.9899 - val_loss: 0.0300\n",
      "\u001b[1m313/313\u001b[0m \u001b[32m━━━━━━━━━━━━━━━━━━━━\u001b[0m\u001b[37m\u001b[0m \u001b[1m3s\u001b[0m 8ms/step - accuracy: 0.9877 - loss: 0.0346\n"
     ]
    },
    {
     "name": "stderr",
     "output_type": "stream",
     "text": [
      "WARNING:absl:You are saving your model as an HDF5 file via `model.save()` or `keras.saving.save_model(model)`. This file format is considered legacy. We recommend using instead the native Keras format, e.g. `model.save('my_model.keras')` or `keras.saving.save_model(model, 'my_model.keras')`. \n"
     ]
    },
    {
     "name": "stdout",
     "output_type": "stream",
     "text": [
      "\n",
      "🎉 Test Accuracy: 98.99%\n",
      "Model saved as mnist_model.h5\n",
      "\u001b[1m1/1\u001b[0m \u001b[32m━━━━━━━━━━━━━━━━━━━━\u001b[0m\u001b[37m\u001b[0m \u001b[1m0s\u001b[0m 160ms/step\n"
     ]
    },
    {
     "data": {
      "image/png": "[encoded data removed]",
      "text/plain": [
       "<Figure size 1000x300 with 5 Axes>"
      ]
     },
     "metadata": {},
     "output_type": "display_data"
    }
   ],
   "source": [
    "\n",
    "# 🤖 Train Number-Reading Robot\n",
    "# Let's teach our robot to recognize handwritten numbers!\n",
    "\n",
    "import tensorflow as tf\n",
    "import matplotlib.pyplot as plt\n",
    "import numpy as np\n",
    "\n",
    "\n",
    "# Step 1: Get Number Pictures\n",
    "# We'll use the MNIST dataset with 60,000 training images\n",
    "\n",
    "\n",
    "(train_images, train_labels), (test_images, test_labels) = (\n",
    "    tf.keras.datasets.mnist.load_data()\n",
    ")\n",
    "\n",
    "\n",
    "# Step 2: Clean the Pictures\n",
    "# Make them nice for our robot!\n",
    "\n",
    "# Normalize pixel values (0-1) and add channel dimension\n",
    "train_images = tf.expand_dims(train_images / 255.0, axis=-1)\n",
    "test_images = tf.expand_dims(test_images / 255.0, axis=-1)\n",
    "\n",
    "# Convert labels to one-hot encoding\n",
    "train_labels = tf.one_hot(train_labels, depth=10)\n",
    "test_labels = tf.one_hot(test_labels, depth=10)\n",
    "\n",
    "# Step 3: Build Robot Brain\n",
    "# Our CNN architecture:\n",
    "model = tf.keras.Sequential(\n",
    "    [\n",
    "        tf.keras.layers.Conv2D(32, (3, 3), activation=\"relu\", input_shape=(28, 28, 1)),\n",
    "        tf.keras.layers.MaxPooling2D((2, 2)),\n",
    "        tf.keras.layers.Conv2D(64, (3, 3), activation=\"relu\"),\n",
    "        tf.keras.layers.MaxPooling2D((2, 2)),\n",
    "        tf.keras.layers.Flatten(),\n",
    "        tf.keras.layers.Dense(64, activation=\"relu\"),\n",
    "        tf.keras.layers.Dense(10, activation=\"softmax\"),\n",
    "    ]\n",
    ")\n",
    "\n",
    "model.compile(optimizer=\"adam\", loss=\"categorical_crossentropy\", metrics=[\"accuracy\"])\n",
    "\n",
    "# Step 4: Train the Robot\n",
    "history = model.fit(\n",
    "    train_images, train_labels, epochs=5, validation_data=(test_images, test_labels)\n",
    ")\n",
    "\n",
    "# Step 5: Test Our Robot\n",
    "test_loss, test_acc = model.evaluate(test_images, test_labels)\n",
    "print(f\"\\n🎉 Test Accuracy: {test_acc*100:.2f}%\")\n",
    "\n",
    "\n",
    "# Step 6: Save the Model\n",
    "# So we can use it in our app!\n",
    "model.save(\"mnist_model.h5\")\n",
    "print(\"Model saved as mnist_model.h5\")\n",
    "\n",
    "\n",
    "# Try Some Predictions\n",
    "sample_images = test_images[:5]\n",
    "predictions = model.predict(sample_images)\n",
    "predicted_labels = tf.argmax(predictions, axis=1)\n",
    "\n",
    "plt.figure(figsize=(10, 3))\n",
    "for i in range(5):\n",
    "    plt.subplot(1, 5, i + 1)\n",
    "    plt.imshow(tf.squeeze(sample_images[i]), cmap=\"gray\")\n",
    "    plt.title(f\"Pred: {predicted_labels[i].numpy()}\")\n",
    "    plt.axis(\"off\")\n",
    "plt.show()"
   ]
  }
 ],
 "metadata": {
  "kernelspec": {
   "display_name": "myenv",
   "language": "python",
   "name": "python3"
  },
  "language_info": {
   "codemirror_mode": {
    "name": "ipython",
    "version": 3
   },
   "file_extension": ".py",
   "mimetype": "text/x-python",
   "name": "python",
   "nbconvert_exporter": "python",
   "pygments_lexer": "ipython3",
   "version": "3.12.10"
  }
 },
 "nbformat": 4,
 "nbformat_minor": 5
}
